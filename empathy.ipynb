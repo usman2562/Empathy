{
 "cells": [
  {
   "cell_type": "markdown",
   "id": "778e4b36",
   "metadata": {},
   "source": [
    "# Empathy"
   ]
  },
  {
   "cell_type": "code",
   "execution_count": 1,
   "id": "78aafe82",
   "metadata": {},
   "outputs": [],
   "source": [
    "import pandas as pd\n",
    "import numpy as np\n",
    "import matplotlib.pyplot as plt\n",
    "import seaborn as sns\n",
    "import os\n",
    "import warnings\n",
    "import glob\n",
    "import sys\n",
    "\n",
    "from sklearn.preprocessing import LabelEncoder, StandardScaler, OneHotEncoder\n",
    "from sklearn.model_selection import train_test_split, LeaveOneOut, cross_val_score, GroupKFold, GridSearchCV\n",
    "from sklearn.linear_model import LinearRegression, Ridge, Lasso\n",
    "from sklearn.ensemble import RandomForestRegressor, GradientBoostingRegressor\n",
    "from sklearn.metrics import mean_squared_error, mean_absolute_error, r2_score, median_absolute_error, explained_variance_score\n",
    "\n",
    "import pickle\n",
    "\n",
    "warnings.filterwarnings(\"ignore\")\n"
   ]
  },
  {
   "cell_type": "markdown",
   "id": "2e94ee49",
   "metadata": {},
   "source": [
    "### Import the empathyhelper"
   ]
  },
  {
   "cell_type": "code",
   "execution_count": 2,
   "id": "386d8f85",
   "metadata": {},
   "outputs": [],
   "source": [
    "import utils"
   ]
  },
  {
   "cell_type": "code",
   "execution_count": null,
   "id": "17ffc60c",
   "metadata": {},
   "outputs": [],
   "source": [
    "from utils import process_input, summarized_eye_tracking_data\n",
    "from utils import display_diameter_certainty_visuals, visualize_comparison_scores\n",
    "from utils import  display_corr_heatmap, train_evaluate_model, display_score_visualization"
   ]
  },
  {
   "cell_type": "markdown",
   "id": "c11a0a84",
   "metadata": {},
   "source": [
    "# Read the files"
   ]
  },
  {
   "cell_type": "code",
   "execution_count": null,
   "id": "106b6974",
   "metadata": {},
   "outputs": [],
   "source": [
    "data_dir = glob.glob('EyeTrackingData/*.csv')"
   ]
  },
  {
   "cell_type": "markdown",
   "id": "775f5de2",
   "metadata": {},
   "source": [
    "## Overall Pipeline"
   ]
  },
  {
   "cell_type": "code",
   "execution_count": null,
   "id": "87ca9d91",
   "metadata": {
    "scrolled": true
   },
   "outputs": [],
   "source": [
    "# Create an empty list to store the DataFrames\n",
    "summary_list = []\n",
    "iteration_count = 0\n",
    "\n",
    "# List of filenames\n",
    "data_files = glob.glob('EyeT/*.csv')\n",
    "\n",
    "# Initialize loop control variable\n",
    "current_index = 0\n",
    "\n",
    "# Execute the loop at least once using a do-while approach\n",
    "while True:\n",
    "    # Read the data from the current filename into a DataFrame\n",
    "    current_filename = data_files[current_index]\n",
    "    raw_data = pd.read_csv(current_filename, usecols=lambda col: col != 0, low_memory=True)\n",
    "    \n",
    "    # Apply preprocessing to the data\n",
    "    processed_data = process_input(raw_data)\n",
    "    \n",
    "    file_base_name = os.path.basename(current_filename)\n",
    "    \n",
    "    if file_base_name.startswith('EyeT_group_dataset_III_'):\n",
    "        group_label = 'Test group experiment'\n",
    "    elif file_base_name.startswith('EyeT_group_dataset_II_'):\n",
    "        group_label = 'Control group experiment'\n",
    "    \n",
    "    # Apply data summarization function\n",
    "    summarized_data = summarized_eye_tracking_data(process_input, group_label)\n",
    "    summary_list.append(summarized_data)\n",
    "    \n",
    "    iteration_count += 1\n",
    "    current_index += 1\n",
    "    \n",
    "    # Break the loop if all files have been processed\n",
    "    if current_index >= len(data_files):\n",
    "        break\n",
    "\n",
    "# Concatenate all the DataFrames into a single DataFrame\n",
    "summary_dataframe = pd.concat(summary_list, ignore_index=True)"
   ]
  },
  {
   "cell_type": "code",
   "execution_count": null,
   "id": "be0ae0ba",
   "metadata": {},
   "outputs": [],
   "source": [
    "summary_dataframe.head()"
   ]
  },
  {
   "cell_type": "markdown",
   "id": "1b4aa477",
   "metadata": {},
   "source": [
    "# Exploratory Data Analysis"
   ]
  },
  {
   "cell_type": "code",
   "execution_count": null,
   "id": "2966a77d",
   "metadata": {},
   "outputs": [],
   "source": [
    "summary_dataframe.head()"
   ]
  },
  {
   "cell_type": "markdown",
   "id": "dc6fc20a",
   "metadata": {},
   "source": [
    "###### Get the count for Control group experiment and Test group experiment"
   ]
  },
  {
   "cell_type": "code",
   "execution_count": null,
   "id": "9021f165",
   "metadata": {},
   "outputs": [],
   "source": [
    "# Count the number of participants in each project\n",
    "participants_per_project = summary_dataframe['Group_Name'].value_counts()\n",
    "\n",
    "control_group_count = participants_per_project.get('Control group experiment', 0)\n",
    "test_group_count = participants_per_project.get('Test group experiment', 0)\n",
    "\n",
    "print(f'Total participants in Control group: {control_group_count}')\n",
    "print(f'Total participants in Test group: {test_group_count}')\n"
   ]
  },
  {
   "cell_type": "code",
   "execution_count": null,
   "id": "1b7f0fff",
   "metadata": {},
   "outputs": [],
   "source": [
    "summary_dataframe.describe()"
   ]
  },
  {
   "cell_type": "code",
   "execution_count": null,
   "id": "b2eb1713",
   "metadata": {},
   "outputs": [],
   "source": [
    "summary_dataframe.shape"
   ]
  },
  {
   "cell_type": "code",
   "execution_count": null,
   "id": "7d7b3529",
   "metadata": {},
   "outputs": [],
   "source": [
    "summary_dataframe.info()"
   ]
  },
  {
   "cell_type": "code",
   "execution_count": null,
   "id": "e0ad2c2d",
   "metadata": {},
   "outputs": [],
   "source": [
    "empathy_score = pd.read_csv('empathy_score/Questionnaire_datasetIB.csv', encoding='cp1252')"
   ]
  },
  {
   "cell_type": "code",
   "execution_count": null,
   "id": "a3d03c7f",
   "metadata": {},
   "outputs": [],
   "source": [
    "empathy_score.describe()"
   ]
  },
  {
   "cell_type": "code",
   "execution_count": null,
   "id": "8f35986f",
   "metadata": {},
   "outputs": [],
   "source": [
    "empathy_score.head()"
   ]
  },
  {
   "cell_type": "code",
   "execution_count": null,
   "id": "18ac25d3",
   "metadata": {},
   "outputs": [],
   "source": [
    "# Merge the data features on columns 'Participant Name' and 'Participant Number'\n",
    "final_data = pd.merge(summary_dataframe, empathy_score[['Participant nr', 'Total Score extended']], left_on='Participant', right_on='Participant nr', how='left')\n",
    "\n",
    "# Drop the 'Participant nr' column as it's no longer needed\n",
    "final_data.drop(columns=['Participant nr'], inplace=True)"
   ]
  },
  {
   "cell_type": "code",
   "execution_count": null,
   "id": "316e9a65",
   "metadata": {},
   "outputs": [],
   "source": [
    "final_data.describe()"
   ]
  },
  {
   "cell_type": "code",
   "execution_count": null,
   "id": "31518fdc",
   "metadata": {},
   "outputs": [],
   "source": [
    "final_data.shape"
   ]
  },
  {
   "cell_type": "code",
   "execution_count": null,
   "id": "4effc175",
   "metadata": {},
   "outputs": [],
   "source": [
    "final_data.info()"
   ]
  },
  {
   "cell_type": "code",
   "execution_count": null,
   "id": "864d4595",
   "metadata": {},
   "outputs": [],
   "source": [
    "# Save the DataFrame\n",
    "final_data.to_csv('output_data.csv', index=False)"
   ]
  },
  {
   "cell_type": "code",
   "execution_count": null,
   "id": "fe30b712",
   "metadata": {},
   "outputs": [],
   "source": [
    "final_data.head()"
   ]
  },
  {
   "cell_type": "code",
   "execution_count": null,
   "id": "ba0f0e71",
   "metadata": {},
   "outputs": [],
   "source": [
    "# Get unique study group names\n",
    "unique_groups = final_data['Study Group'].unique()\n",
    "\n",
    "# Define a color palette for each group\n",
    "color_palette = ['blue', 'red', 'green']\n",
    "\n",
    "# Create subplots\n",
    "fig, ax = plt.subplots()\n",
    "\n",
    "# Loop through unique groups using list comprehension\n",
    "scatter_plots = [ax.scatter(group_data['Avg_Pupil_Diameter'], group_data['Total_Empathy_Score'], c=color_palette[i], label=group_name)\n",
    "                 for i, group_name in enumerate(unique_groups)\n",
    "                 if (group_data := final_data[final_data['Study_Group'] == group_name]) is not None]\n",
    "\n",
    "# Add labels and title\n",
    "ax.set_xlabel('Average Pupil Diameter')\n",
    "ax.set_ylabel('Empathy Score')\n",
    "ax.set_title('Pupil Diameter vs Empathy Score by Study Group')\n",
    "\n",
    "ax.legend(bbox_to_anchor=(1.05, 1), loc='upper left', borderaxespad=0.)\n",
    "\n",
    "# Display the plot\n",
    "plt.show()\n"
   ]
  },
  {
   "cell_type": "code",
   "execution_count": null,
   "id": "6a64a05c",
   "metadata": {},
   "outputs": [],
   "source": [
    "# Get unique project names\n",
    "distinct_projects = final_data['Project Name'].unique()\n",
    "\n",
    "# List of colors for each project\n",
    "color_palette = ['blue', 'red']\n",
    "\n",
    "# Create subplots\n",
    "fig, ax = plt.subplots()\n",
    "\n",
    "# Loop through unique projects and create scatter plots\n",
    "scatter_plots = [ax.scatter(project_data['Total Fixations'], project_data['Total Empathy Score'], c=color_palette[index], label=project)\n",
    "                 for index, project in enumerate(distinct_projects)]\n",
    "\n",
    "# Add labels and title\n",
    "ax.set_xlabel('Total Fixations')\n",
    "ax.set_ylabel('Empathy Score')\n",
    "ax.set_title('Total Fixations vs Empathy Score by Project')\n",
    "\n",
    "ax.legend()\n",
    "\n",
    "# Display the plot\n",
    "plt.show()\n"
   ]
  },
  {
   "cell_type": "code",
   "execution_count": null,
   "id": "7f7be4e7",
   "metadata": {
    "scrolled": true
   },
   "outputs": [],
   "source": [
    "# Get unique participant names\n",
    "unique_individuals = final_data['Participant'].unique()\n",
    "\n",
    "# Limit to the first 4 participants for the trend\n",
    "selected_individuals = unique_individuals[:4]\n",
    "\n",
    "# Create subplots\n",
    "num_rows = len(selected_individuals)\n",
    "fig, axs = plt.subplots(nrows=num_rows, figsize=(8, 5*num_rows))\n",
    "\n",
    "# Loop through selected participants using list comprehension\n",
    "for index, participant in enumerate(selected_individuals):\n",
    "    participant_data = final_data[final_data['Participant'] == participant].head(6)\n",
    "\n",
    "    grouped_data = participant_data.groupby('Occurrence').agg({'Average_Pupil_Diameter': 'mean', 'Median_Pupil_Diameter': 'mean', 'Pupil_Diameter_StdDev': 'mean'}).reset_index()\n",
    "\n",
    "    ax = axs[index]\n",
    "\n",
    "    ax.errorbar(grouped_data['Occurrence'], grouped_data['Average_Pupil_Diameter'], grouped_data['Pupil_Diameter_StdDev'], linestyle='-', marker='o', capsize=5, ecolor=\"green\", elinewidth=0.5, label='Mean')\n",
    "\n",
    "    ax.plot(grouped_data['Occurrence'], grouped_data['Median_Pupil_Diameter'], linestyle='-', marker='s', label='Median')\n",
    "\n",
    "    # Add labels and title\n",
    "    ax.set_xlabel('Occurrence')\n",
    "    ax.set_ylabel('Avg Pupil Diameter (mm)')\n",
    "    ax.set_title(f'Mean and Median for Participant: {participant}')\n",
    "\n",
    "    # Add legend\n",
    "    ax.legend()\n",
    "\n",
    "# Display the plot\n",
    "plt.tight_layout()\n",
    "plt.show()\n"
   ]
  },
  {
   "cell_type": "code",
   "execution_count": null,
   "id": "43f115fe",
   "metadata": {},
   "outputs": [],
   "source": [
    "# Create a dictionary to store the DataFrames for each project\n",
    "project_data_dict = {}\n",
    "\n",
    "# Get unique project names\n",
    "unique_projects = final_data['Project_Name'].unique()\n",
    "\n",
    "# Loop through unique projects using list comprehension\n",
    "project_data_dict = {project: final_data[final_data['Project_Name'] == project] for project in unique_projects}\n"
   ]
  },
  {
   "cell_type": "code",
   "execution_count": null,
   "id": "4c3e399f",
   "metadata": {},
   "outputs": [],
   "source": [
    "target_project = 'Control group experiment'\n",
    "project_data_frames = [df for proj_name, df in project_data_dict.items() if proj_name == target_project]\n",
    "\n",
    "if project_data_frames:\n",
    "    control_data_frame = project_data_frames[0]\n",
    "    control_data_frame.head()\n",
    "else:\n",
    "    print(f\"No data found for the project: {target_project}\")\n"
   ]
  },
  {
   "cell_type": "code",
   "execution_count": null,
   "id": "f69ee507",
   "metadata": {},
   "outputs": [],
   "source": [
    "target_project = 'Test group experiment'\n",
    "selected_df = [df for project_name, df in project_dataframes.items() if project_name == target_project][0]\n",
    "selected_df_head = selected_df.head()\n",
    "\n",
    "print(f'First few rows of the {target_project} DataFrame:')\n",
    "print(selected_df_head)\n"
   ]
  },
  {
   "cell_type": "code",
   "execution_count": null,
   "id": "63f924dc",
   "metadata": {},
   "outputs": [],
   "source": [
    "pupil_analysis_df = target_project[['Person', 'Average Pupil Diameter', 'Median Pupil Diameter', 'Pupil Diameter Standard Deviation', 'Group Name', 'Session Name', 'Total Empathy Score']].copy()\n",
    "pupil_analysis_df.head()"
   ]
  },
  {
   "cell_type": "code",
   "execution_count": null,
   "id": "5d81e91f",
   "metadata": {},
   "outputs": [],
   "source": [
    "pupil_metrics_df = target_project[['Person', 'Average Pupil Size', 'Median Pupil Size', 'Pupil Size StdDev', 'Group', 'Session', 'Total Empathy']].copy()\n",
    "pupil_metrics_df.head()\n"
   ]
  },
  {
   "cell_type": "code",
   "execution_count": null,
   "id": "0bbc6f84",
   "metadata": {},
   "outputs": [],
   "source": [
    "display_corr_heatmap(target_project, 'Total Score extended', top_n=15)"
   ]
  },
  {
   "cell_type": "code",
   "execution_count": null,
   "id": "7ec2170d",
   "metadata": {
    "scrolled": false
   },
   "outputs": [],
   "source": [
    "display_corr_heatmap(selected_df_head, 'Total Score extended', top_n=15)"
   ]
  },
  {
   "cell_type": "markdown",
   "id": "cae371ff",
   "metadata": {},
   "source": [
    "# Modeling"
   ]
  },
  {
   "cell_type": "code",
   "execution_count": null,
   "id": "b9d9cf47",
   "metadata": {
    "scrolled": true
   },
   "outputs": [],
   "source": [
    "control_group_results = train_evaluate_model(target_project, \"Control Group\")"
   ]
  },
  {
   "cell_type": "code",
   "execution_count": null,
   "id": "6267793a",
   "metadata": {},
   "outputs": [],
   "source": [
    "control_group_results.info()"
   ]
  },
  {
   "cell_type": "code",
   "execution_count": null,
   "id": "77786047",
   "metadata": {},
   "outputs": [],
   "source": [
    "visualize_comparison_scores(control_group_results)"
   ]
  },
  {
   "cell_type": "markdown",
   "id": "3d017d9c",
   "metadata": {},
   "source": [
    "# Test Group"
   ]
  },
  {
   "cell_type": "code",
   "execution_count": null,
   "id": "4129d0c3",
   "metadata": {
    "scrolled": true
   },
   "outputs": [],
   "source": [
    "test_group_results = train_evaluate_model(selected_df_head, \"Test Group\")"
   ]
  },
  {
   "cell_type": "code",
   "execution_count": null,
   "id": "99ede199",
   "metadata": {},
   "outputs": [],
   "source": [
    "visualize_comparison_scores(test_group_results)"
   ]
  },
  {
   "cell_type": "code",
   "execution_count": null,
   "id": "37ba1b91",
   "metadata": {},
   "outputs": [],
   "source": [
    "visualize_comparison_scores(results_test)"
   ]
  },
  {
   "cell_type": "code",
   "execution_count": null,
   "id": "84826670",
   "metadata": {},
   "outputs": [],
   "source": [
    "visualize_empathy_scores(results_control)"
   ]
  },
  {
   "cell_type": "code",
   "execution_count": null,
   "id": "a467fa84",
   "metadata": {
    "scrolled": true
   },
   "outputs": [],
   "source": [
    "control_group_pupil_result = train_evaluate_model(pupil_control_df, \"Control Group\")"
   ]
  },
  {
   "cell_type": "code",
   "execution_count": null,
   "id": "f697bdc4",
   "metadata": {},
   "outputs": [],
   "source": [
    "visualize_empathy_scores(pupil_results_control)"
   ]
  },
  {
   "cell_type": "markdown",
   "id": "11d30699",
   "metadata": {},
   "source": [
    "# Test Group"
   ]
  },
  {
   "cell_type": "code",
   "execution_count": null,
   "id": "f30152cb",
   "metadata": {},
   "outputs": [],
   "source": [
    "pupil_results_test = train_and_evaluate(pupil_test_df, \"Test Group\")"
   ]
  },
  {
   "cell_type": "code",
   "execution_count": null,
   "id": "dacbaa67",
   "metadata": {},
   "outputs": [],
   "source": [
    "visualize_empathy_scores(pupil_results_test)"
   ]
  }
 ],
 "metadata": {
  "kernelspec": {
   "display_name": "Python 3 (ipykernel)",
   "language": "python",
   "name": "python3"
  },
  "language_info": {
   "codemirror_mode": {
    "name": "ipython",
    "version": 3
   },
   "file_extension": ".py",
   "mimetype": "text/x-python",
   "name": "python",
   "nbconvert_exporter": "python",
   "pygments_lexer": "ipython3",
   "version": "3.10.9"
  }
 },
 "nbformat": 4,
 "nbformat_minor": 5
}
